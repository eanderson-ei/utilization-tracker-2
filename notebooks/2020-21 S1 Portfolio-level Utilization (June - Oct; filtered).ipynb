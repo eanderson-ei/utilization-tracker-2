{
 "cells": [
  {
   "cell_type": "markdown",
   "metadata": {},
   "source": [
    "# 2020-21 S2 Portfolio-level Utilizations (June - Oct; filtered)\n",
    "Utilization is calculated at the portfolio level as the total billable hours divided by a weighted FTE based on the proportion of the company's time spent towards that portfolio.\n",
    "\n",
    "To calculate utilization at the portfolio level, information required includes:\n",
    "* **org_bill_hrs**: Total billable hours for the portfolio\n",
    "* **org_total_hrs**: Total hours (billable and non-billable) for the portfolio (e.g., Planning & Ops, HR, General)\n",
    "* **fte_hrs**: FTE hours for the company (i.e., total workable days * number of employees each day * 8 hours per day)\n",
    "* **total_hrs**: Total hours for the company (i.e., total of all hours worked)\n",
    "\n",
    "This workbook evaluates portfolio-level utilizations by first filtering by team member (i.e., excluding employees that did not log any hours to the portfolio). See *2020-21 S2 Portfolio-level Utilizations* for comparison without filtering. "
   ]
  },
  {
   "cell_type": "code",
   "execution_count": 1,
   "metadata": {},
   "outputs": [],
   "source": [
    "import pandas as pd\n",
    "import numpy as np\n",
    "portfolio = 'Habitat'"
   ]
  },
  {
   "cell_type": "code",
   "execution_count": 2,
   "metadata": {},
   "outputs": [],
   "source": [
    "# read in data\n",
    "util_df = pd.read_csv(r'C:\\Users\\Erik\\Downloads\\Utilization Tabular (12).csv', sep='\\t',\n",
    "                       encoding='utf_16_le')\n",
    "util_df['Hours Date'] = pd.to_datetime(util_df['Hours Date'])\n",
    "filt = (util_df['Hours Date'] < pd.to_datetime('2020-10-31')) &  (util_df['Hours Date'] > pd.to_datetime('2020-06-01'))\n",
    "util_df = util_df[filt]\n",
    "org_df = pd.read_csv(r'C:\\Users\\Erik\\Downloads\\Organizations.csv', sep='\\t',\n",
    "                       encoding='utf_16_le')\n",
    "emp_df = pd.read_csv(r'C:\\Users\\Erik\\Downloads\\Employees (14).csv', sep='\\t',\n",
    "                       encoding='utf_16_le')\n",
    "emp_df['Hire date'] = pd.to_datetime(emp_df['Hire date'])\n",
    "emp_df['Termination date'] = pd.to_datetime(emp_df['Termination date'])"
   ]
  },
  {
   "cell_type": "code",
   "execution_count": 3,
   "metadata": {},
   "outputs": [
    {
     "data": {
      "text/html": [
       "<div>\n",
       "<style scoped>\n",
       "    .dataframe tbody tr th:only-of-type {\n",
       "        vertical-align: middle;\n",
       "    }\n",
       "\n",
       "    .dataframe tbody tr th {\n",
       "        vertical-align: top;\n",
       "    }\n",
       "\n",
       "    .dataframe thead th {\n",
       "        text-align: right;\n",
       "    }\n",
       "</style>\n",
       "<table border=\"1\" class=\"dataframe\">\n",
       "  <thead>\n",
       "    <tr style=\"text-align: right;\">\n",
       "      <th></th>\n",
       "      <th>Employee ID</th>\n",
       "      <th>Last Name</th>\n",
       "      <th>First Name</th>\n",
       "      <th>Work Schedule Description</th>\n",
       "      <th>Org Name</th>\n",
       "      <th>Project ID</th>\n",
       "      <th>Project Name</th>\n",
       "      <th>User Defined Code 3</th>\n",
       "      <th>Hours Date</th>\n",
       "      <th>Entered Hours</th>\n",
       "      <th>Approved Hours</th>\n",
       "      <th>Comments</th>\n",
       "    </tr>\n",
       "  </thead>\n",
       "  <tbody>\n",
       "    <tr>\n",
       "      <th>3</th>\n",
       "      <td>100001.0</td>\n",
       "      <td>Alexandrovich</td>\n",
       "      <td>Andrew</td>\n",
       "      <td>Standard</td>\n",
       "      <td>Company Health</td>\n",
       "      <td>INDR.001.001.01</td>\n",
       "      <td>Planning and Ops Gen Intl</td>\n",
       "      <td>OVH</td>\n",
       "      <td>2020-06-02</td>\n",
       "      <td>1.50</td>\n",
       "      <td>0</td>\n",
       "      <td>NaN</td>\n",
       "    </tr>\n",
       "    <tr>\n",
       "      <th>4</th>\n",
       "      <td>100001.0</td>\n",
       "      <td>Alexandrovich</td>\n",
       "      <td>Andrew</td>\n",
       "      <td>Standard</td>\n",
       "      <td>Company Health</td>\n",
       "      <td>INDR.001.009.01</td>\n",
       "      <td>Planning and Ops CH</td>\n",
       "      <td>G&amp;A</td>\n",
       "      <td>2020-06-02</td>\n",
       "      <td>7.50</td>\n",
       "      <td>0</td>\n",
       "      <td>NaN</td>\n",
       "    </tr>\n",
       "    <tr>\n",
       "      <th>5</th>\n",
       "      <td>100001.0</td>\n",
       "      <td>Alexandrovich</td>\n",
       "      <td>Andrew</td>\n",
       "      <td>Standard</td>\n",
       "      <td>Company Health</td>\n",
       "      <td>INDR.001.009.01</td>\n",
       "      <td>Planning and Ops CH</td>\n",
       "      <td>G&amp;A</td>\n",
       "      <td>2020-06-03</td>\n",
       "      <td>5.86</td>\n",
       "      <td>0</td>\n",
       "      <td>NaN</td>\n",
       "    </tr>\n",
       "    <tr>\n",
       "      <th>6</th>\n",
       "      <td>100001.0</td>\n",
       "      <td>Alexandrovich</td>\n",
       "      <td>Andrew</td>\n",
       "      <td>Standard</td>\n",
       "      <td>Company Health</td>\n",
       "      <td>INDR.002.009.01</td>\n",
       "      <td>HR &amp; Recruiting CH</td>\n",
       "      <td>G&amp;A</td>\n",
       "      <td>2020-06-03</td>\n",
       "      <td>5.00</td>\n",
       "      <td>0</td>\n",
       "      <td>NaN</td>\n",
       "    </tr>\n",
       "    <tr>\n",
       "      <th>7</th>\n",
       "      <td>100001.0</td>\n",
       "      <td>Alexandrovich</td>\n",
       "      <td>Andrew</td>\n",
       "      <td>Standard</td>\n",
       "      <td>Company Health</td>\n",
       "      <td>INDR.005.001.01</td>\n",
       "      <td>R&amp;D General Intl</td>\n",
       "      <td>IRD</td>\n",
       "      <td>2020-06-03</td>\n",
       "      <td>1.67</td>\n",
       "      <td>0</td>\n",
       "      <td>NaN</td>\n",
       "    </tr>\n",
       "  </tbody>\n",
       "</table>\n",
       "</div>"
      ],
      "text/plain": [
       "   Employee ID      Last Name First Name Work Schedule Description  \\\n",
       "3     100001.0  Alexandrovich     Andrew                  Standard   \n",
       "4     100001.0  Alexandrovich     Andrew                  Standard   \n",
       "5     100001.0  Alexandrovich     Andrew                  Standard   \n",
       "6     100001.0  Alexandrovich     Andrew                  Standard   \n",
       "7     100001.0  Alexandrovich     Andrew                  Standard   \n",
       "\n",
       "         Org Name       Project ID               Project Name  \\\n",
       "3  Company Health  INDR.001.001.01  Planning and Ops Gen Intl   \n",
       "4  Company Health  INDR.001.009.01        Planning and Ops CH   \n",
       "5  Company Health  INDR.001.009.01        Planning and Ops CH   \n",
       "6  Company Health  INDR.002.009.01         HR & Recruiting CH   \n",
       "7  Company Health  INDR.005.001.01           R&D General Intl   \n",
       "\n",
       "  User Defined Code 3 Hours Date  Entered Hours  Approved Hours Comments  \n",
       "3                 OVH 2020-06-02           1.50               0      NaN  \n",
       "4                 G&A 2020-06-02           7.50               0      NaN  \n",
       "5                 G&A 2020-06-03           5.86               0      NaN  \n",
       "6                 G&A 2020-06-03           5.00               0      NaN  \n",
       "7                 IRD 2020-06-03           1.67               0      NaN  "
      ]
     },
     "execution_count": 3,
     "metadata": {},
     "output_type": "execute_result"
    }
   ],
   "source": [
    "util_df.head()"
   ]
  },
  {
   "cell_type": "code",
   "execution_count": 4,
   "metadata": {},
   "outputs": [
    {
     "data": {
      "text/html": [
       "<div>\n",
       "<style scoped>\n",
       "    .dataframe tbody tr th:only-of-type {\n",
       "        vertical-align: middle;\n",
       "    }\n",
       "\n",
       "    .dataframe tbody tr th {\n",
       "        vertical-align: top;\n",
       "    }\n",
       "\n",
       "    .dataframe thead th {\n",
       "        text-align: right;\n",
       "    }\n",
       "</style>\n",
       "<table border=\"1\" class=\"dataframe\">\n",
       "  <thead>\n",
       "    <tr style=\"text-align: right;\">\n",
       "      <th></th>\n",
       "      <th>Project ID</th>\n",
       "      <th>Project Name</th>\n",
       "      <th>Organization ID</th>\n",
       "      <th>Organization Name</th>\n",
       "      <th>Level Number</th>\n",
       "    </tr>\n",
       "  </thead>\n",
       "  <tbody>\n",
       "    <tr>\n",
       "      <th>0</th>\n",
       "      <td>1001</td>\n",
       "      <td>USAID Measuring Impact II</td>\n",
       "      <td>1.01.01.01</td>\n",
       "      <td>General Intl</td>\n",
       "      <td>4</td>\n",
       "    </tr>\n",
       "    <tr>\n",
       "      <th>1</th>\n",
       "      <td>1001.AFR</td>\n",
       "      <td>BI-AFR</td>\n",
       "      <td>1.01.01.04</td>\n",
       "      <td>Africa</td>\n",
       "      <td>4</td>\n",
       "    </tr>\n",
       "    <tr>\n",
       "      <th>2</th>\n",
       "      <td>1001.AFR.001</td>\n",
       "      <td>BI-AFR</td>\n",
       "      <td>1.01.01.04</td>\n",
       "      <td>Africa</td>\n",
       "      <td>4</td>\n",
       "    </tr>\n",
       "    <tr>\n",
       "      <th>3</th>\n",
       "      <td>1001.AFR.001.01</td>\n",
       "      <td>16.0.AFR_BuyIn_Mgmt</td>\n",
       "      <td>1.01.01.04</td>\n",
       "      <td>Africa</td>\n",
       "      <td>4</td>\n",
       "    </tr>\n",
       "    <tr>\n",
       "      <th>4</th>\n",
       "      <td>1001.AFR.001.02</td>\n",
       "      <td>16.0.AFR_Zambia FS</td>\n",
       "      <td>1.01.01.04</td>\n",
       "      <td>Africa</td>\n",
       "      <td>4</td>\n",
       "    </tr>\n",
       "  </tbody>\n",
       "</table>\n",
       "</div>"
      ],
      "text/plain": [
       "        Project ID               Project Name Organization ID  \\\n",
       "0             1001  USAID Measuring Impact II      1.01.01.01   \n",
       "1         1001.AFR                     BI-AFR      1.01.01.04   \n",
       "2     1001.AFR.001                     BI-AFR      1.01.01.04   \n",
       "3  1001.AFR.001.01        16.0.AFR_BuyIn_Mgmt      1.01.01.04   \n",
       "4  1001.AFR.001.02        16.0.AFR_Zambia FS       1.01.01.04   \n",
       "\n",
       "  Organization Name  Level Number  \n",
       "0      General Intl             4  \n",
       "1            Africa             4  \n",
       "2            Africa             4  \n",
       "3            Africa             4  \n",
       "4            Africa             4  "
      ]
     },
     "execution_count": 4,
     "metadata": {},
     "output_type": "execute_result"
    }
   ],
   "source": [
    "org_df.head()"
   ]
  },
  {
   "cell_type": "code",
   "execution_count": 5,
   "metadata": {},
   "outputs": [
    {
     "data": {
      "text/plain": [
       "True"
      ]
     },
     "execution_count": 5,
     "metadata": {},
     "output_type": "execute_result"
    }
   ],
   "source": [
    "# confirm Project ID is unique\n",
    "len(org_df) == len(org_df['Project ID'].unique())"
   ]
  },
  {
   "cell_type": "code",
   "execution_count": 6,
   "metadata": {},
   "outputs": [
    {
     "data": {
      "text/html": [
       "<div>\n",
       "<style scoped>\n",
       "    .dataframe tbody tr th:only-of-type {\n",
       "        vertical-align: middle;\n",
       "    }\n",
       "\n",
       "    .dataframe tbody tr th {\n",
       "        vertical-align: top;\n",
       "    }\n",
       "\n",
       "    .dataframe thead th {\n",
       "        text-align: right;\n",
       "    }\n",
       "</style>\n",
       "<table border=\"1\" class=\"dataframe\">\n",
       "  <thead>\n",
       "    <tr style=\"text-align: right;\">\n",
       "      <th></th>\n",
       "      <th>Employee ID</th>\n",
       "      <th>Last Name</th>\n",
       "      <th>First Name</th>\n",
       "      <th>Work Schedule Description</th>\n",
       "      <th>Org Name</th>\n",
       "      <th>Project ID</th>\n",
       "      <th>Project Name</th>\n",
       "      <th>User Defined Code 3</th>\n",
       "      <th>Hours Date</th>\n",
       "      <th>Entered Hours</th>\n",
       "      <th>Approved Hours</th>\n",
       "      <th>Comments</th>\n",
       "      <th>Organization ID</th>\n",
       "      <th>Organization Name</th>\n",
       "      <th>Level Number</th>\n",
       "    </tr>\n",
       "  </thead>\n",
       "  <tbody>\n",
       "    <tr>\n",
       "      <th>0</th>\n",
       "      <td>100001.0</td>\n",
       "      <td>Alexandrovich</td>\n",
       "      <td>Andrew</td>\n",
       "      <td>Standard</td>\n",
       "      <td>Company Health</td>\n",
       "      <td>INDR.001.001.01</td>\n",
       "      <td>Planning and Ops Gen Intl</td>\n",
       "      <td>OVH</td>\n",
       "      <td>2020-06-02</td>\n",
       "      <td>1.50</td>\n",
       "      <td>0</td>\n",
       "      <td>NaN</td>\n",
       "      <td>1.01.01.01</td>\n",
       "      <td>General Intl</td>\n",
       "      <td>4.0</td>\n",
       "    </tr>\n",
       "    <tr>\n",
       "      <th>1</th>\n",
       "      <td>100001.0</td>\n",
       "      <td>Alexandrovich</td>\n",
       "      <td>Andrew</td>\n",
       "      <td>Standard</td>\n",
       "      <td>Company Health</td>\n",
       "      <td>INDR.001.009.01</td>\n",
       "      <td>Planning and Ops CH</td>\n",
       "      <td>G&amp;A</td>\n",
       "      <td>2020-06-02</td>\n",
       "      <td>7.50</td>\n",
       "      <td>0</td>\n",
       "      <td>NaN</td>\n",
       "      <td>1.01.90.01</td>\n",
       "      <td>HR and Operations</td>\n",
       "      <td>4.0</td>\n",
       "    </tr>\n",
       "    <tr>\n",
       "      <th>2</th>\n",
       "      <td>100001.0</td>\n",
       "      <td>Alexandrovich</td>\n",
       "      <td>Andrew</td>\n",
       "      <td>Standard</td>\n",
       "      <td>Company Health</td>\n",
       "      <td>INDR.001.009.01</td>\n",
       "      <td>Planning and Ops CH</td>\n",
       "      <td>G&amp;A</td>\n",
       "      <td>2020-06-03</td>\n",
       "      <td>5.86</td>\n",
       "      <td>0</td>\n",
       "      <td>NaN</td>\n",
       "      <td>1.01.90.01</td>\n",
       "      <td>HR and Operations</td>\n",
       "      <td>4.0</td>\n",
       "    </tr>\n",
       "    <tr>\n",
       "      <th>3</th>\n",
       "      <td>100001.0</td>\n",
       "      <td>Alexandrovich</td>\n",
       "      <td>Andrew</td>\n",
       "      <td>Standard</td>\n",
       "      <td>Company Health</td>\n",
       "      <td>INDR.002.009.01</td>\n",
       "      <td>HR &amp; Recruiting CH</td>\n",
       "      <td>G&amp;A</td>\n",
       "      <td>2020-06-03</td>\n",
       "      <td>5.00</td>\n",
       "      <td>0</td>\n",
       "      <td>NaN</td>\n",
       "      <td>1.01.90.01</td>\n",
       "      <td>HR and Operations</td>\n",
       "      <td>4.0</td>\n",
       "    </tr>\n",
       "    <tr>\n",
       "      <th>4</th>\n",
       "      <td>100001.0</td>\n",
       "      <td>Alexandrovich</td>\n",
       "      <td>Andrew</td>\n",
       "      <td>Standard</td>\n",
       "      <td>Company Health</td>\n",
       "      <td>INDR.005.001.01</td>\n",
       "      <td>R&amp;D General Intl</td>\n",
       "      <td>IRD</td>\n",
       "      <td>2020-06-03</td>\n",
       "      <td>1.67</td>\n",
       "      <td>0</td>\n",
       "      <td>NaN</td>\n",
       "      <td>1.01.01.01</td>\n",
       "      <td>General Intl</td>\n",
       "      <td>4.0</td>\n",
       "    </tr>\n",
       "  </tbody>\n",
       "</table>\n",
       "</div>"
      ],
      "text/plain": [
       "   Employee ID      Last Name First Name Work Schedule Description  \\\n",
       "0     100001.0  Alexandrovich     Andrew                  Standard   \n",
       "1     100001.0  Alexandrovich     Andrew                  Standard   \n",
       "2     100001.0  Alexandrovich     Andrew                  Standard   \n",
       "3     100001.0  Alexandrovich     Andrew                  Standard   \n",
       "4     100001.0  Alexandrovich     Andrew                  Standard   \n",
       "\n",
       "         Org Name       Project ID               Project Name  \\\n",
       "0  Company Health  INDR.001.001.01  Planning and Ops Gen Intl   \n",
       "1  Company Health  INDR.001.009.01        Planning and Ops CH   \n",
       "2  Company Health  INDR.001.009.01        Planning and Ops CH   \n",
       "3  Company Health  INDR.002.009.01         HR & Recruiting CH   \n",
       "4  Company Health  INDR.005.001.01           R&D General Intl   \n",
       "\n",
       "  User Defined Code 3 Hours Date  Entered Hours  Approved Hours Comments  \\\n",
       "0                 OVH 2020-06-02           1.50               0      NaN   \n",
       "1                 G&A 2020-06-02           7.50               0      NaN   \n",
       "2                 G&A 2020-06-03           5.86               0      NaN   \n",
       "3                 G&A 2020-06-03           5.00               0      NaN   \n",
       "4                 IRD 2020-06-03           1.67               0      NaN   \n",
       "\n",
       "  Organization ID  Organization Name  Level Number  \n",
       "0      1.01.01.01       General Intl           4.0  \n",
       "1      1.01.90.01  HR and Operations           4.0  \n",
       "2      1.01.90.01  HR and Operations           4.0  \n",
       "3      1.01.90.01  HR and Operations           4.0  \n",
       "4      1.01.01.01       General Intl           4.0  "
      ]
     },
     "execution_count": 6,
     "metadata": {},
     "output_type": "execute_result"
    }
   ],
   "source": [
    "# merge hours entries and organizations\n",
    "df = pd.merge(util_df, org_df, how='left')\n",
    "df.head()"
   ]
  },
  {
   "cell_type": "code",
   "execution_count": 7,
   "metadata": {},
   "outputs": [
    {
     "data": {
      "text/plain": [
       "0"
      ]
     },
     "execution_count": 7,
     "metadata": {},
     "output_type": "execute_result"
    }
   ],
   "source": [
    "# confirm merge did not add new time entries\n",
    "len(util_df) - len(df)"
   ]
  },
  {
   "cell_type": "code",
   "execution_count": 8,
   "metadata": {
    "scrolled": true
   },
   "outputs": [
    {
     "data": {
      "text/plain": [
       "Index(['Employee ID', 'Last Name', 'First Name', 'Work Schedule Description',\n",
       "       'Org Name', 'Project ID', 'Project Name', 'User Defined Code 3',\n",
       "       'Hours Date', 'Entered Hours', 'Approved Hours', 'Comments',\n",
       "       'Organization ID', 'Organization Name', 'Level Number'],\n",
       "      dtype='object')"
      ]
     },
     "execution_count": 8,
     "metadata": {},
     "output_type": "execute_result"
    }
   ],
   "source": [
    "df.columns"
   ]
  },
  {
   "cell_type": "markdown",
   "metadata": {},
   "source": [
    "## Filter for habitat"
   ]
  },
  {
   "cell_type": "code",
   "execution_count": 9,
   "metadata": {},
   "outputs": [
    {
     "data": {
      "text/html": [
       "<div>\n",
       "<style scoped>\n",
       "    .dataframe tbody tr th:only-of-type {\n",
       "        vertical-align: middle;\n",
       "    }\n",
       "\n",
       "    .dataframe tbody tr th {\n",
       "        vertical-align: top;\n",
       "    }\n",
       "\n",
       "    .dataframe thead th {\n",
       "        text-align: right;\n",
       "    }\n",
       "</style>\n",
       "<table border=\"1\" class=\"dataframe\">\n",
       "  <thead>\n",
       "    <tr style=\"text-align: right;\">\n",
       "      <th></th>\n",
       "      <th>Employee ID</th>\n",
       "      <th>Last Name</th>\n",
       "      <th>First Name</th>\n",
       "      <th>Work Schedule Description</th>\n",
       "      <th>Org Name</th>\n",
       "      <th>Project ID</th>\n",
       "      <th>Project Name</th>\n",
       "      <th>User Defined Code 3</th>\n",
       "      <th>Hours Date</th>\n",
       "      <th>Entered Hours</th>\n",
       "      <th>Approved Hours</th>\n",
       "      <th>Comments</th>\n",
       "      <th>Organization ID</th>\n",
       "      <th>Organization Name</th>\n",
       "      <th>Level Number</th>\n",
       "    </tr>\n",
       "  </thead>\n",
       "  <tbody>\n",
       "    <tr>\n",
       "      <th>6093</th>\n",
       "      <td>100022.0</td>\n",
       "      <td>Anderson</td>\n",
       "      <td>Erik</td>\n",
       "      <td>Standard</td>\n",
       "      <td>Domestic</td>\n",
       "      <td>INDR.001.002.02</td>\n",
       "      <td>Planning and Ops Habitat</td>\n",
       "      <td>OVH</td>\n",
       "      <td>2020-06-02</td>\n",
       "      <td>1.23</td>\n",
       "      <td>0</td>\n",
       "      <td>NaN</td>\n",
       "      <td>1.01.02.01</td>\n",
       "      <td>Habitat</td>\n",
       "      <td>4.0</td>\n",
       "    </tr>\n",
       "    <tr>\n",
       "      <th>6095</th>\n",
       "      <td>100022.0</td>\n",
       "      <td>Anderson</td>\n",
       "      <td>Erik</td>\n",
       "      <td>Standard</td>\n",
       "      <td>Domestic</td>\n",
       "      <td>INDR.003.002.02</td>\n",
       "      <td>General OH Habitat</td>\n",
       "      <td>OVH</td>\n",
       "      <td>2020-06-02</td>\n",
       "      <td>1.00</td>\n",
       "      <td>0</td>\n",
       "      <td>NaN</td>\n",
       "      <td>1.01.02.01</td>\n",
       "      <td>Habitat</td>\n",
       "      <td>4.0</td>\n",
       "    </tr>\n",
       "    <tr>\n",
       "      <th>6096</th>\n",
       "      <td>100022.0</td>\n",
       "      <td>Anderson</td>\n",
       "      <td>Erik</td>\n",
       "      <td>Standard</td>\n",
       "      <td>Domestic</td>\n",
       "      <td>INDR.005.002.02</td>\n",
       "      <td>R&amp;D Habitat</td>\n",
       "      <td>IRD</td>\n",
       "      <td>2020-06-02</td>\n",
       "      <td>2.33</td>\n",
       "      <td>0</td>\n",
       "      <td>NaN</td>\n",
       "      <td>1.01.02.01</td>\n",
       "      <td>Habitat</td>\n",
       "      <td>4.0</td>\n",
       "    </tr>\n",
       "    <tr>\n",
       "      <th>6099</th>\n",
       "      <td>100022.0</td>\n",
       "      <td>Anderson</td>\n",
       "      <td>Erik</td>\n",
       "      <td>Standard</td>\n",
       "      <td>Domestic</td>\n",
       "      <td>2005.UNB</td>\n",
       "      <td>NV CCS Unbillable</td>\n",
       "      <td>UNA</td>\n",
       "      <td>2020-06-03</td>\n",
       "      <td>1.00</td>\n",
       "      <td>0</td>\n",
       "      <td>present credit Summary tool</td>\n",
       "      <td>1.01.02.01</td>\n",
       "      <td>Habitat</td>\n",
       "      <td>4.0</td>\n",
       "    </tr>\n",
       "    <tr>\n",
       "      <th>6100</th>\n",
       "      <td>100022.0</td>\n",
       "      <td>Anderson</td>\n",
       "      <td>Erik</td>\n",
       "      <td>Standard</td>\n",
       "      <td>Domestic</td>\n",
       "      <td>INDR.001.002.02</td>\n",
       "      <td>Planning and Ops Habitat</td>\n",
       "      <td>OVH</td>\n",
       "      <td>2020-06-03</td>\n",
       "      <td>0.82</td>\n",
       "      <td>0</td>\n",
       "      <td>NaN</td>\n",
       "      <td>1.01.02.01</td>\n",
       "      <td>Habitat</td>\n",
       "      <td>4.0</td>\n",
       "    </tr>\n",
       "  </tbody>\n",
       "</table>\n",
       "</div>"
      ],
      "text/plain": [
       "      Employee ID Last Name First Name Work Schedule Description  Org Name  \\\n",
       "6093     100022.0  Anderson       Erik                  Standard  Domestic   \n",
       "6095     100022.0  Anderson       Erik                  Standard  Domestic   \n",
       "6096     100022.0  Anderson       Erik                  Standard  Domestic   \n",
       "6099     100022.0  Anderson       Erik                  Standard  Domestic   \n",
       "6100     100022.0  Anderson       Erik                  Standard  Domestic   \n",
       "\n",
       "           Project ID              Project Name User Defined Code 3  \\\n",
       "6093  INDR.001.002.02  Planning and Ops Habitat                 OVH   \n",
       "6095  INDR.003.002.02        General OH Habitat                 OVH   \n",
       "6096  INDR.005.002.02               R&D Habitat                 IRD   \n",
       "6099         2005.UNB         NV CCS Unbillable                 UNA   \n",
       "6100  INDR.001.002.02  Planning and Ops Habitat                 OVH   \n",
       "\n",
       "     Hours Date  Entered Hours  Approved Hours                     Comments  \\\n",
       "6093 2020-06-02           1.23               0                          NaN   \n",
       "6095 2020-06-02           1.00               0                          NaN   \n",
       "6096 2020-06-02           2.33               0                          NaN   \n",
       "6099 2020-06-03           1.00               0  present credit Summary tool   \n",
       "6100 2020-06-03           0.82               0                          NaN   \n",
       "\n",
       "     Organization ID Organization Name  Level Number  \n",
       "6093      1.01.02.01           Habitat           4.0  \n",
       "6095      1.01.02.01           Habitat           4.0  \n",
       "6096      1.01.02.01           Habitat           4.0  \n",
       "6099      1.01.02.01           Habitat           4.0  \n",
       "6100      1.01.02.01           Habitat           4.0  "
      ]
     },
     "execution_count": 9,
     "metadata": {},
     "output_type": "execute_result"
    }
   ],
   "source": [
    "filt = df['Organization Name'] == portfolio\n",
    "hab_df = df.loc[filt]\n",
    "hab_df.head()"
   ]
  },
  {
   "cell_type": "code",
   "execution_count": 10,
   "metadata": {
    "scrolled": true
   },
   "outputs": [
    {
     "data": {
      "text/plain": [
       "array(['Habitat'], dtype=object)"
      ]
     },
     "execution_count": 10,
     "metadata": {},
     "output_type": "execute_result"
    }
   ],
   "source": [
    "hab_df['Organization Name'].unique()"
   ]
  },
  {
   "cell_type": "code",
   "execution_count": 11,
   "metadata": {
    "scrolled": true
   },
   "outputs": [
    {
     "data": {
      "text/plain": [
       "array([], dtype=object)"
      ]
     },
     "execution_count": 11,
     "metadata": {},
     "output_type": "execute_result"
    }
   ],
   "source": [
    "# check for null organizations\n",
    "filt = hab_df['Organization Name'].isnull()\n",
    "no_org_df = hab_df.loc[filt]\n",
    "no_org_df['Project Name'].unique()"
   ]
  },
  {
   "cell_type": "code",
   "execution_count": 12,
   "metadata": {},
   "outputs": [
    {
     "data": {
      "text/plain": [
       "0.0"
      ]
     },
     "execution_count": 12,
     "metadata": {},
     "output_type": "execute_result"
    }
   ],
   "source": [
    "no_org_df['Entered Hours'].sum()"
   ]
  },
  {
   "cell_type": "code",
   "execution_count": 13,
   "metadata": {},
   "outputs": [
    {
     "data": {
      "text/plain": [
       "array([100022., 100023., 100025., 100026., 100029., 100038., 100041.,\n",
       "       100047., 100067., 100074., 100076., 100092.])"
      ]
     },
     "execution_count": 13,
     "metadata": {},
     "output_type": "execute_result"
    }
   ],
   "source": [
    "# get list of employees to filter emp_df by\n",
    "emps = hab_df['Employee ID'].unique()\n",
    "emps"
   ]
  },
  {
   "cell_type": "code",
   "execution_count": 14,
   "metadata": {},
   "outputs": [
    {
     "data": {
      "text/html": [
       "<div>\n",
       "<style scoped>\n",
       "    .dataframe tbody tr th:only-of-type {\n",
       "        vertical-align: middle;\n",
       "    }\n",
       "\n",
       "    .dataframe tbody tr th {\n",
       "        vertical-align: top;\n",
       "    }\n",
       "\n",
       "    .dataframe thead th {\n",
       "        text-align: right;\n",
       "    }\n",
       "</style>\n",
       "<table border=\"1\" class=\"dataframe\">\n",
       "  <thead>\n",
       "    <tr style=\"text-align: right;\">\n",
       "      <th></th>\n",
       "      <th>Employee ID</th>\n",
       "      <th>Last Name</th>\n",
       "      <th>First Name</th>\n",
       "      <th>Middle Initial</th>\n",
       "      <th>E-mail Address</th>\n",
       "      <th>Active Flag</th>\n",
       "      <th>Hire date</th>\n",
       "      <th>Termination date</th>\n",
       "      <th>Work Schedule</th>\n",
       "      <th>Work Schedule Description</th>\n",
       "      <th>Default Org</th>\n",
       "    </tr>\n",
       "  </thead>\n",
       "  <tbody>\n",
       "    <tr>\n",
       "      <th>0</th>\n",
       "      <td>100041</td>\n",
       "      <td>Abragan</td>\n",
       "      <td>Maria Celes</td>\n",
       "      <td>L</td>\n",
       "      <td>mabragan@enviroincentives.com</td>\n",
       "      <td>Y</td>\n",
       "      <td>2019-04-08</td>\n",
       "      <td>NaT</td>\n",
       "      <td>STD</td>\n",
       "      <td>Standard</td>\n",
       "      <td>1.01.01</td>\n",
       "    </tr>\n",
       "    <tr>\n",
       "      <th>1</th>\n",
       "      <td>100003</td>\n",
       "      <td>Ajroud</td>\n",
       "      <td>Brittany</td>\n",
       "      <td>N</td>\n",
       "      <td>bajroud@enviroincentives.com</td>\n",
       "      <td>Y</td>\n",
       "      <td>2016-10-18</td>\n",
       "      <td>NaT</td>\n",
       "      <td>STD</td>\n",
       "      <td>Standard</td>\n",
       "      <td>1.01.01</td>\n",
       "    </tr>\n",
       "    <tr>\n",
       "      <th>2</th>\n",
       "      <td>100001</td>\n",
       "      <td>Alexandrovich</td>\n",
       "      <td>Andrew</td>\n",
       "      <td>NaN</td>\n",
       "      <td>andrew@enviroincentives.com</td>\n",
       "      <td>Y</td>\n",
       "      <td>2010-04-05</td>\n",
       "      <td>NaT</td>\n",
       "      <td>STD</td>\n",
       "      <td>Standard</td>\n",
       "      <td>1.01.90</td>\n",
       "    </tr>\n",
       "    <tr>\n",
       "      <th>3</th>\n",
       "      <td>100022</td>\n",
       "      <td>Anderson</td>\n",
       "      <td>Erik</td>\n",
       "      <td>T</td>\n",
       "      <td>eanderson@enviroincentives.com</td>\n",
       "      <td>Y</td>\n",
       "      <td>2014-03-17</td>\n",
       "      <td>NaT</td>\n",
       "      <td>STD</td>\n",
       "      <td>Standard</td>\n",
       "      <td>1.01.02</td>\n",
       "    </tr>\n",
       "    <tr>\n",
       "      <th>4</th>\n",
       "      <td>100027</td>\n",
       "      <td>Armanino</td>\n",
       "      <td>Molly</td>\n",
       "      <td>NaN</td>\n",
       "      <td>marmanino@enviroincentives.com</td>\n",
       "      <td>N</td>\n",
       "      <td>2017-06-18</td>\n",
       "      <td>2019-12-14</td>\n",
       "      <td>NaN</td>\n",
       "      <td>NaN</td>\n",
       "      <td>NaN</td>\n",
       "    </tr>\n",
       "  </tbody>\n",
       "</table>\n",
       "</div>"
      ],
      "text/plain": [
       "   Employee ID      Last Name   First Name Middle Initial  \\\n",
       "0       100041        Abragan  Maria Celes              L   \n",
       "1       100003         Ajroud     Brittany              N   \n",
       "2       100001  Alexandrovich       Andrew            NaN   \n",
       "3       100022       Anderson         Erik              T   \n",
       "4       100027       Armanino        Molly            NaN   \n",
       "\n",
       "                   E-mail Address Active Flag  Hire date Termination date  \\\n",
       "0   mabragan@enviroincentives.com           Y 2019-04-08              NaT   \n",
       "1    bajroud@enviroincentives.com           Y 2016-10-18              NaT   \n",
       "2     andrew@enviroincentives.com           Y 2010-04-05              NaT   \n",
       "3  eanderson@enviroincentives.com           Y 2014-03-17              NaT   \n",
       "4  marmanino@enviroincentives.com           N 2017-06-18       2019-12-14   \n",
       "\n",
       "  Work Schedule Work Schedule Description Default Org  \n",
       "0           STD                  Standard     1.01.01  \n",
       "1           STD                  Standard     1.01.01  \n",
       "2           STD                  Standard     1.01.90  \n",
       "3           STD                  Standard     1.01.02  \n",
       "4           NaN                       NaN         NaN  "
      ]
     },
     "execution_count": 14,
     "metadata": {},
     "output_type": "execute_result"
    }
   ],
   "source": [
    "emp_df.head()"
   ]
  },
  {
   "cell_type": "code",
   "execution_count": 15,
   "metadata": {},
   "outputs": [
    {
     "data": {
      "text/html": [
       "<div>\n",
       "<style scoped>\n",
       "    .dataframe tbody tr th:only-of-type {\n",
       "        vertical-align: middle;\n",
       "    }\n",
       "\n",
       "    .dataframe tbody tr th {\n",
       "        vertical-align: top;\n",
       "    }\n",
       "\n",
       "    .dataframe thead th {\n",
       "        text-align: right;\n",
       "    }\n",
       "</style>\n",
       "<table border=\"1\" class=\"dataframe\">\n",
       "  <thead>\n",
       "    <tr style=\"text-align: right;\">\n",
       "      <th></th>\n",
       "      <th>Employee ID</th>\n",
       "      <th>Last Name</th>\n",
       "      <th>First Name</th>\n",
       "      <th>Middle Initial</th>\n",
       "      <th>E-mail Address</th>\n",
       "      <th>Active Flag</th>\n",
       "      <th>Hire date</th>\n",
       "      <th>Termination date</th>\n",
       "      <th>Work Schedule</th>\n",
       "      <th>Work Schedule Description</th>\n",
       "      <th>Default Org</th>\n",
       "    </tr>\n",
       "  </thead>\n",
       "  <tbody>\n",
       "    <tr>\n",
       "      <th>0</th>\n",
       "      <td>100041</td>\n",
       "      <td>Abragan</td>\n",
       "      <td>Maria Celes</td>\n",
       "      <td>L</td>\n",
       "      <td>mabragan@enviroincentives.com</td>\n",
       "      <td>Y</td>\n",
       "      <td>2019-04-08</td>\n",
       "      <td>NaT</td>\n",
       "      <td>STD</td>\n",
       "      <td>Standard</td>\n",
       "      <td>1.01.01</td>\n",
       "    </tr>\n",
       "    <tr>\n",
       "      <th>3</th>\n",
       "      <td>100022</td>\n",
       "      <td>Anderson</td>\n",
       "      <td>Erik</td>\n",
       "      <td>T</td>\n",
       "      <td>eanderson@enviroincentives.com</td>\n",
       "      <td>Y</td>\n",
       "      <td>2014-03-17</td>\n",
       "      <td>NaT</td>\n",
       "      <td>STD</td>\n",
       "      <td>Standard</td>\n",
       "      <td>1.01.02</td>\n",
       "    </tr>\n",
       "    <tr>\n",
       "      <th>9</th>\n",
       "      <td>100023</td>\n",
       "      <td>Boysen</td>\n",
       "      <td>Kristen</td>\n",
       "      <td>N</td>\n",
       "      <td>kboysen@enviroincentives.com</td>\n",
       "      <td>Y</td>\n",
       "      <td>2016-06-17</td>\n",
       "      <td>NaT</td>\n",
       "      <td>STD</td>\n",
       "      <td>Standard</td>\n",
       "      <td>1.01.02</td>\n",
       "    </tr>\n",
       "    <tr>\n",
       "      <th>10</th>\n",
       "      <td>100038</td>\n",
       "      <td>Brock</td>\n",
       "      <td>Cameryn</td>\n",
       "      <td>J</td>\n",
       "      <td>cbrock@enviroincentives.com</td>\n",
       "      <td>Y</td>\n",
       "      <td>2020-06-15</td>\n",
       "      <td>NaT</td>\n",
       "      <td>STD</td>\n",
       "      <td>Standard</td>\n",
       "      <td>1.01.02.01</td>\n",
       "    </tr>\n",
       "    <tr>\n",
       "      <th>12</th>\n",
       "      <td>100067</td>\n",
       "      <td>Castillo Ferri</td>\n",
       "      <td>Mauricio</td>\n",
       "      <td>R</td>\n",
       "      <td>mcastilloferri@enviroincentives.com</td>\n",
       "      <td>Y</td>\n",
       "      <td>2019-11-18</td>\n",
       "      <td>NaT</td>\n",
       "      <td>STD</td>\n",
       "      <td>Standard</td>\n",
       "      <td>1.01.90</td>\n",
       "    </tr>\n",
       "  </tbody>\n",
       "</table>\n",
       "</div>"
      ],
      "text/plain": [
       "    Employee ID       Last Name   First Name Middle Initial  \\\n",
       "0        100041         Abragan  Maria Celes              L   \n",
       "3        100022        Anderson         Erik              T   \n",
       "9        100023          Boysen      Kristen              N   \n",
       "10       100038           Brock      Cameryn              J   \n",
       "12       100067  Castillo Ferri     Mauricio              R   \n",
       "\n",
       "                         E-mail Address Active Flag  Hire date  \\\n",
       "0         mabragan@enviroincentives.com           Y 2019-04-08   \n",
       "3        eanderson@enviroincentives.com           Y 2014-03-17   \n",
       "9          kboysen@enviroincentives.com           Y 2016-06-17   \n",
       "10          cbrock@enviroincentives.com           Y 2020-06-15   \n",
       "12  mcastilloferri@enviroincentives.com           Y 2019-11-18   \n",
       "\n",
       "   Termination date Work Schedule Work Schedule Description Default Org  \n",
       "0               NaT           STD                  Standard     1.01.01  \n",
       "3               NaT           STD                  Standard     1.01.02  \n",
       "9               NaT           STD                  Standard     1.01.02  \n",
       "10              NaT           STD                  Standard  1.01.02.01  \n",
       "12              NaT           STD                  Standard     1.01.90  "
      ]
     },
     "execution_count": 15,
     "metadata": {},
     "output_type": "execute_result"
    }
   ],
   "source": [
    "filt = emp_df['Employee ID'].isin(emps)\n",
    "emp_df = emp_df.loc[filt]\n",
    "emp_df.head()"
   ]
  },
  {
   "cell_type": "code",
   "execution_count": 16,
   "metadata": {},
   "outputs": [
    {
     "data": {
      "text/plain": [
       "array(['Abragan', 'Anderson', 'Boysen', 'Brock', 'Castillo Ferri',\n",
       "       'Connolly', 'Daniels', 'Mirghani', 'Motlow', 'Riley', 'Shay',\n",
       "       'Sokulsky'], dtype=object)"
      ]
     },
     "execution_count": 16,
     "metadata": {},
     "output_type": "execute_result"
    }
   ],
   "source": [
    "# which employees billed to the portfolio?\n",
    "emp_df['Last Name'].unique()"
   ]
  },
  {
   "cell_type": "code",
   "execution_count": 17,
   "metadata": {},
   "outputs": [
    {
     "data": {
      "text/html": [
       "<div>\n",
       "<style scoped>\n",
       "    .dataframe tbody tr th:only-of-type {\n",
       "        vertical-align: middle;\n",
       "    }\n",
       "\n",
       "    .dataframe tbody tr th {\n",
       "        vertical-align: top;\n",
       "    }\n",
       "\n",
       "    .dataframe thead th {\n",
       "        text-align: right;\n",
       "    }\n",
       "</style>\n",
       "<table border=\"1\" class=\"dataframe\">\n",
       "  <thead>\n",
       "    <tr style=\"text-align: right;\">\n",
       "      <th></th>\n",
       "      <th>Employee ID</th>\n",
       "      <th>Last Name</th>\n",
       "      <th>First Name</th>\n",
       "      <th>Work Schedule Description</th>\n",
       "      <th>Org Name</th>\n",
       "      <th>Project ID</th>\n",
       "      <th>Project Name</th>\n",
       "      <th>User Defined Code 3</th>\n",
       "      <th>Hours Date</th>\n",
       "      <th>Entered Hours</th>\n",
       "      <th>Approved Hours</th>\n",
       "      <th>Comments</th>\n",
       "      <th>Organization ID</th>\n",
       "      <th>Organization Name</th>\n",
       "      <th>Level Number</th>\n",
       "    </tr>\n",
       "  </thead>\n",
       "  <tbody>\n",
       "    <tr>\n",
       "      <th>11648</th>\n",
       "      <td>100041.0</td>\n",
       "      <td>Abragan</td>\n",
       "      <td>Maria Celes</td>\n",
       "      <td>Standard</td>\n",
       "      <td>International</td>\n",
       "      <td>INDR.002.002.02</td>\n",
       "      <td>HR &amp; Recruiting Habitat</td>\n",
       "      <td>OVH</td>\n",
       "      <td>2020-06-15</td>\n",
       "      <td>1.3</td>\n",
       "      <td>0</td>\n",
       "      <td>NaN</td>\n",
       "      <td>1.01.02.01</td>\n",
       "      <td>Habitat</td>\n",
       "      <td>4.0</td>\n",
       "    </tr>\n",
       "  </tbody>\n",
       "</table>\n",
       "</div>"
      ],
      "text/plain": [
       "       Employee ID Last Name   First Name Work Schedule Description  \\\n",
       "11648     100041.0   Abragan  Maria Celes                  Standard   \n",
       "\n",
       "            Org Name       Project ID             Project Name  \\\n",
       "11648  International  INDR.002.002.02  HR & Recruiting Habitat   \n",
       "\n",
       "      User Defined Code 3 Hours Date  Entered Hours  Approved Hours Comments  \\\n",
       "11648                 OVH 2020-06-15            1.3               0      NaN   \n",
       "\n",
       "      Organization ID Organization Name  Level Number  \n",
       "11648      1.01.02.01           Habitat           4.0  "
      ]
     },
     "execution_count": 17,
     "metadata": {},
     "output_type": "execute_result"
    }
   ],
   "source": [
    "# check to make sure that Abragan did bill to Habitat\n",
    "filt = hab_df['Last Name'] == 'Abragan'\n",
    "hab_df.loc[filt]"
   ]
  },
  {
   "cell_type": "markdown",
   "metadata": {},
   "source": [
    "## fte_hrs"
   ]
  },
  {
   "cell_type": "code",
   "execution_count": 18,
   "metadata": {},
   "outputs": [
    {
     "data": {
      "text/html": [
       "<div>\n",
       "<style scoped>\n",
       "    .dataframe tbody tr th:only-of-type {\n",
       "        vertical-align: middle;\n",
       "    }\n",
       "\n",
       "    .dataframe tbody tr th {\n",
       "        vertical-align: top;\n",
       "    }\n",
       "\n",
       "    .dataframe thead th {\n",
       "        text-align: right;\n",
       "    }\n",
       "</style>\n",
       "<table border=\"1\" class=\"dataframe\">\n",
       "  <thead>\n",
       "    <tr style=\"text-align: right;\">\n",
       "      <th></th>\n",
       "      <th>Employee ID</th>\n",
       "      <th>Hire date</th>\n",
       "      <th>Termination date</th>\n",
       "      <th>sem_start</th>\n",
       "      <th>sem_end</th>\n",
       "      <th>bushrs</th>\n",
       "    </tr>\n",
       "  </thead>\n",
       "  <tbody>\n",
       "    <tr>\n",
       "      <th>0</th>\n",
       "      <td>100041</td>\n",
       "      <td>2019-04-08</td>\n",
       "      <td>NaT</td>\n",
       "      <td>2020-06-01</td>\n",
       "      <td>2020-10-31</td>\n",
       "      <td>880</td>\n",
       "    </tr>\n",
       "    <tr>\n",
       "      <th>3</th>\n",
       "      <td>100022</td>\n",
       "      <td>2014-03-17</td>\n",
       "      <td>NaT</td>\n",
       "      <td>2020-06-01</td>\n",
       "      <td>2020-10-31</td>\n",
       "      <td>880</td>\n",
       "    </tr>\n",
       "    <tr>\n",
       "      <th>9</th>\n",
       "      <td>100023</td>\n",
       "      <td>2016-06-17</td>\n",
       "      <td>NaT</td>\n",
       "      <td>2020-06-01</td>\n",
       "      <td>2020-10-31</td>\n",
       "      <td>880</td>\n",
       "    </tr>\n",
       "    <tr>\n",
       "      <th>10</th>\n",
       "      <td>100038</td>\n",
       "      <td>2020-06-15</td>\n",
       "      <td>NaT</td>\n",
       "      <td>2020-06-15</td>\n",
       "      <td>2020-10-31</td>\n",
       "      <td>800</td>\n",
       "    </tr>\n",
       "    <tr>\n",
       "      <th>12</th>\n",
       "      <td>100067</td>\n",
       "      <td>2019-11-18</td>\n",
       "      <td>NaT</td>\n",
       "      <td>2020-06-01</td>\n",
       "      <td>2020-10-31</td>\n",
       "      <td>880</td>\n",
       "    </tr>\n",
       "  </tbody>\n",
       "</table>\n",
       "</div>"
      ],
      "text/plain": [
       "    Employee ID  Hire date Termination date  sem_start    sem_end  bushrs\n",
       "0        100041 2019-04-08              NaT 2020-06-01 2020-10-31     880\n",
       "3        100022 2014-03-17              NaT 2020-06-01 2020-10-31     880\n",
       "9        100023 2016-06-17              NaT 2020-06-01 2020-10-31     880\n",
       "10       100038 2020-06-15              NaT 2020-06-15 2020-10-31     800\n",
       "12       100067 2019-11-18              NaT 2020-06-01 2020-10-31     880"
      ]
     },
     "execution_count": 18,
     "metadata": {},
     "output_type": "execute_result"
    }
   ],
   "source": [
    "# fte hours is total number of fte days by start and end dates (ignore part time and very part time (e.g., CB))\n",
    "sem_start = pd.to_datetime('2020-06-01')\n",
    "sem_end = pd.to_datetime('2020-10-31')\n",
    "\n",
    "fte_df = emp_df[['Employee ID', 'Hire date', 'Termination date']].copy()\n",
    "\n",
    "def update_start(hire_date):\n",
    "    if hire_date < sem_start:\n",
    "        return sem_start\n",
    "    elif hire_date > sem_end:\n",
    "        return sem_end\n",
    "    else:\n",
    "        return hire_date\n",
    "    \n",
    "def update_end(termination_date):\n",
    "    if pd.isnull(termination_date):\n",
    "        return sem_end\n",
    "    if termination_date > sem_end:\n",
    "        return sem_end\n",
    "    elif termination_date < sem_start:\n",
    "        return sem_start\n",
    "    else:\n",
    "        return termination_date\n",
    "\n",
    "fte_df['sem_start'] = fte_df['Hire date'].apply(update_start)\n",
    "fte_df['sem_end'] = fte_df['Termination date'].apply(update_end)\n",
    "fte_df['bushrs'] = np.busday_count(fte_df['sem_start'].dt.date, fte_df['sem_end'].dt.date) * 8\n",
    "\n",
    "fte_df.head()"
   ]
  },
  {
   "cell_type": "code",
   "execution_count": 19,
   "metadata": {},
   "outputs": [
    {
     "data": {
      "text/plain": [
       "9896"
      ]
     },
     "execution_count": 19,
     "metadata": {},
     "output_type": "execute_result"
    }
   ],
   "source": [
    "fte_hrs = fte_df['bushrs'].sum()\n",
    "fte_hrs"
   ]
  },
  {
   "cell_type": "markdown",
   "metadata": {},
   "source": [
    "## total_hrs"
   ]
  },
  {
   "cell_type": "code",
   "execution_count": 20,
   "metadata": {},
   "outputs": [
    {
     "data": {
      "text/plain": [
       "10243.78"
      ]
     },
     "execution_count": 20,
     "metadata": {},
     "output_type": "execute_result"
    }
   ],
   "source": [
    "# first filter by emp\n",
    "filt = df['Employee ID'].isin(emps)\n",
    "df_select_emp = df.loc[filt]\n",
    "\n",
    "# total hours is sum of all hours for the included employees \n",
    "total_hrs = df_select_emp['Entered Hours'].sum()\n",
    "total_hrs"
   ]
  },
  {
   "cell_type": "code",
   "execution_count": 21,
   "metadata": {},
   "outputs": [
    {
     "data": {
      "text/plain": [
       "1.0351434923201295"
      ]
     },
     "execution_count": 21,
     "metadata": {},
     "output_type": "execute_result"
    }
   ],
   "source": [
    "# what is this group's FTE?\n",
    "total_hrs / fte_hrs"
   ]
  },
  {
   "cell_type": "code",
   "execution_count": 22,
   "metadata": {},
   "outputs": [
    {
     "data": {
      "text/html": [
       "<div>\n",
       "<style scoped>\n",
       "    .dataframe tbody tr th:only-of-type {\n",
       "        vertical-align: middle;\n",
       "    }\n",
       "\n",
       "    .dataframe tbody tr th {\n",
       "        vertical-align: top;\n",
       "    }\n",
       "\n",
       "    .dataframe thead th {\n",
       "        text-align: right;\n",
       "    }\n",
       "</style>\n",
       "<table border=\"1\" class=\"dataframe\">\n",
       "  <thead>\n",
       "    <tr style=\"text-align: right;\">\n",
       "      <th></th>\n",
       "      <th>Last Name</th>\n",
       "      <th>First Name</th>\n",
       "      <th>Entered Hours</th>\n",
       "      <th>sem_start</th>\n",
       "      <th>sem_end</th>\n",
       "      <th>bushrs</th>\n",
       "      <th>fte</th>\n",
       "    </tr>\n",
       "  </thead>\n",
       "  <tbody>\n",
       "    <tr>\n",
       "      <th>7</th>\n",
       "      <td>Shay</td>\n",
       "      <td>Arica</td>\n",
       "      <td>1036.07</td>\n",
       "      <td>2020-06-01</td>\n",
       "      <td>2020-10-31</td>\n",
       "      <td>880.0</td>\n",
       "      <td>1.177352</td>\n",
       "    </tr>\n",
       "    <tr>\n",
       "      <th>1</th>\n",
       "      <td>Boysen</td>\n",
       "      <td>Kristen</td>\n",
       "      <td>949.60</td>\n",
       "      <td>2020-06-01</td>\n",
       "      <td>2020-10-31</td>\n",
       "      <td>880.0</td>\n",
       "      <td>1.079091</td>\n",
       "    </tr>\n",
       "    <tr>\n",
       "      <th>3</th>\n",
       "      <td>Riley</td>\n",
       "      <td>Kathryn</td>\n",
       "      <td>941.96</td>\n",
       "      <td>2020-06-01</td>\n",
       "      <td>2020-10-31</td>\n",
       "      <td>880.0</td>\n",
       "      <td>1.070409</td>\n",
       "    </tr>\n",
       "    <tr>\n",
       "      <th>8</th>\n",
       "      <td>Castillo Ferri</td>\n",
       "      <td>Mauricio</td>\n",
       "      <td>940.88</td>\n",
       "      <td>2020-06-01</td>\n",
       "      <td>2020-10-31</td>\n",
       "      <td>880.0</td>\n",
       "      <td>1.069182</td>\n",
       "    </tr>\n",
       "    <tr>\n",
       "      <th>10</th>\n",
       "      <td>Daniels</td>\n",
       "      <td>Molly</td>\n",
       "      <td>939.49</td>\n",
       "      <td>2020-06-01</td>\n",
       "      <td>2020-10-31</td>\n",
       "      <td>880.0</td>\n",
       "      <td>1.067602</td>\n",
       "    </tr>\n",
       "    <tr>\n",
       "      <th>2</th>\n",
       "      <td>Motlow</td>\n",
       "      <td>Mary-Sophia</td>\n",
       "      <td>937.75</td>\n",
       "      <td>2020-06-01</td>\n",
       "      <td>2020-10-31</td>\n",
       "      <td>880.0</td>\n",
       "      <td>1.065625</td>\n",
       "    </tr>\n",
       "    <tr>\n",
       "      <th>0</th>\n",
       "      <td>Anderson</td>\n",
       "      <td>Erik</td>\n",
       "      <td>919.22</td>\n",
       "      <td>2020-06-01</td>\n",
       "      <td>2020-10-31</td>\n",
       "      <td>880.0</td>\n",
       "      <td>1.044568</td>\n",
       "    </tr>\n",
       "    <tr>\n",
       "      <th>9</th>\n",
       "      <td>Mirghani</td>\n",
       "      <td>Izzie</td>\n",
       "      <td>792.44</td>\n",
       "      <td>2020-06-01</td>\n",
       "      <td>2020-10-15</td>\n",
       "      <td>784.0</td>\n",
       "      <td>1.010765</td>\n",
       "    </tr>\n",
       "    <tr>\n",
       "      <th>6</th>\n",
       "      <td>Abragan</td>\n",
       "      <td>Maria Celes</td>\n",
       "      <td>886.15</td>\n",
       "      <td>2020-06-01</td>\n",
       "      <td>2020-10-31</td>\n",
       "      <td>880.0</td>\n",
       "      <td>1.006989</td>\n",
       "    </tr>\n",
       "    <tr>\n",
       "      <th>4</th>\n",
       "      <td>Sokulsky</td>\n",
       "      <td>Jeremy</td>\n",
       "      <td>882.24</td>\n",
       "      <td>2020-06-01</td>\n",
       "      <td>2020-10-31</td>\n",
       "      <td>880.0</td>\n",
       "      <td>1.002545</td>\n",
       "    </tr>\n",
       "    <tr>\n",
       "      <th>11</th>\n",
       "      <td>Connolly</td>\n",
       "      <td>Katherine</td>\n",
       "      <td>392.00</td>\n",
       "      <td>2020-08-25</td>\n",
       "      <td>2020-10-31</td>\n",
       "      <td>392.0</td>\n",
       "      <td>1.000000</td>\n",
       "    </tr>\n",
       "    <tr>\n",
       "      <th>5</th>\n",
       "      <td>Brock</td>\n",
       "      <td>Cameryn</td>\n",
       "      <td>625.98</td>\n",
       "      <td>2020-06-15</td>\n",
       "      <td>2020-10-31</td>\n",
       "      <td>800.0</td>\n",
       "      <td>0.782475</td>\n",
       "    </tr>\n",
       "  </tbody>\n",
       "</table>\n",
       "</div>"
      ],
      "text/plain": [
       "         Last Name   First Name  Entered Hours  sem_start    sem_end  bushrs  \\\n",
       "7             Shay        Arica        1036.07 2020-06-01 2020-10-31   880.0   \n",
       "1           Boysen      Kristen         949.60 2020-06-01 2020-10-31   880.0   \n",
       "3            Riley      Kathryn         941.96 2020-06-01 2020-10-31   880.0   \n",
       "8   Castillo Ferri     Mauricio         940.88 2020-06-01 2020-10-31   880.0   \n",
       "10         Daniels        Molly         939.49 2020-06-01 2020-10-31   880.0   \n",
       "2           Motlow  Mary-Sophia         937.75 2020-06-01 2020-10-31   880.0   \n",
       "0         Anderson         Erik         919.22 2020-06-01 2020-10-31   880.0   \n",
       "9         Mirghani        Izzie         792.44 2020-06-01 2020-10-15   784.0   \n",
       "6          Abragan  Maria Celes         886.15 2020-06-01 2020-10-31   880.0   \n",
       "4         Sokulsky       Jeremy         882.24 2020-06-01 2020-10-31   880.0   \n",
       "11        Connolly    Katherine         392.00 2020-08-25 2020-10-31   392.0   \n",
       "5            Brock      Cameryn         625.98 2020-06-15 2020-10-31   800.0   \n",
       "\n",
       "         fte  \n",
       "7   1.177352  \n",
       "1   1.079091  \n",
       "3   1.070409  \n",
       "8   1.069182  \n",
       "10  1.067602  \n",
       "2   1.065625  \n",
       "0   1.044568  \n",
       "9   1.010765  \n",
       "6   1.006989  \n",
       "4   1.002545  \n",
       "11  1.000000  \n",
       "5   0.782475  "
      ]
     },
     "execution_count": 22,
     "metadata": {},
     "output_type": "execute_result"
    }
   ],
   "source": [
    "# review fte by employee based on expected fte hours as calculated\n",
    "hrs_by_emp = df.groupby('Employee ID').sum()['Entered Hours']\n",
    "hrs_by_emp = pd.merge(hrs_by_emp, fte_df, left_index=True, right_on='Employee ID', how='left')\n",
    "hrs_by_emp['fte'] = hrs_by_emp['Entered Hours'] / hrs_by_emp['bushrs']\n",
    "hrs_by_emp = pd.merge(hrs_by_emp, emp_df, on='Employee ID')\n",
    "hrs_by_emp.loc[:, ['Last Name', 'First Name', 'Entered Hours', 'sem_start', 'sem_end', 'bushrs', 'fte']].sort_values('fte', ascending=False)"
   ]
  },
  {
   "cell_type": "markdown",
   "metadata": {},
   "source": [
    "## org_total_hrs"
   ]
  },
  {
   "cell_type": "code",
   "execution_count": 23,
   "metadata": {},
   "outputs": [
    {
     "data": {
      "text/plain": [
       "3631.66"
      ]
     },
     "execution_count": 23,
     "metadata": {},
     "output_type": "execute_result"
    }
   ],
   "source": [
    "# calculate total hours by organization\n",
    "org_total_hrs = hab_df['Entered Hours'].sum()\n",
    "org_total_hrs"
   ]
  },
  {
   "cell_type": "code",
   "execution_count": 24,
   "metadata": {},
   "outputs": [
    {
     "data": {
      "text/plain": [
       "3631.660000000001"
      ]
     },
     "execution_count": 24,
     "metadata": {},
     "output_type": "execute_result"
    }
   ],
   "source": [
    "# confirm total hours with full hours entries table\n",
    "df.groupby('Organization Name').sum()['Entered Hours'][portfolio]"
   ]
  },
  {
   "cell_type": "markdown",
   "metadata": {},
   "source": [
    "## org_bill_hrs"
   ]
  },
  {
   "cell_type": "code",
   "execution_count": 25,
   "metadata": {},
   "outputs": [
    {
     "data": {
      "text/plain": [
       "2455.95"
      ]
     },
     "execution_count": 25,
     "metadata": {},
     "output_type": "execute_result"
    }
   ],
   "source": [
    "# calculate billable hours by organization\n",
    "filt = hab_df['User Defined Code 3'] == 'SRV'\n",
    "org_bill_hrs = hab_df.loc[filt].sum()['Entered Hours']\n",
    "org_bill_hrs"
   ]
  },
  {
   "cell_type": "code",
   "execution_count": 26,
   "metadata": {},
   "outputs": [
    {
     "data": {
      "text/plain": [
       "2455.9500000000044"
      ]
     },
     "execution_count": 26,
     "metadata": {},
     "output_type": "execute_result"
    }
   ],
   "source": [
    "# confirm billable hours with full hours entries table\n",
    "filt = df['User Defined Code 3'] == 'SRV'\n",
    "org_bill_hrs = df.loc[filt].groupby('Organization Name').sum()['Entered Hours'][portfolio]\n",
    "org_bill_hrs"
   ]
  },
  {
   "cell_type": "markdown",
   "metadata": {},
   "source": [
    "## Calculations\n",
    "### Proportion to organization\n",
    "prop_to_org = org_total_hrs / total_hrs"
   ]
  },
  {
   "cell_type": "code",
   "execution_count": 27,
   "metadata": {},
   "outputs": [
    {
     "data": {
      "text/plain": [
       "0.3545234278752569"
      ]
     },
     "execution_count": 27,
     "metadata": {},
     "output_type": "execute_result"
    }
   ],
   "source": [
    "# divide org total hrs by total hours to get proportion\n",
    "prop_to_org = org_total_hrs / total_hrs\n",
    "prop_to_org"
   ]
  },
  {
   "cell_type": "markdown",
   "metadata": {},
   "source": [
    "This is where the math starts to diverge between the whole company calculation and the subgroup calculation. This isn't unexpected, since this group would be expected to have a higher proportion to organization than the company as whole."
   ]
  },
  {
   "cell_type": "markdown",
   "metadata": {},
   "source": [
    "### Weighted FTE\n",
    "weighted_fte = prop_to_org * fte_hrs"
   ]
  },
  {
   "cell_type": "code",
   "execution_count": 28,
   "metadata": {},
   "outputs": [
    {
     "data": {
      "text/plain": [
       "3508.3638422535423"
      ]
     },
     "execution_count": 28,
     "metadata": {},
     "output_type": "execute_result"
    }
   ],
   "source": [
    "# weight fte by prop to org\n",
    "weighted_fte = prop_to_org * fte_hrs\n",
    "weighted_fte"
   ]
  },
  {
   "cell_type": "markdown",
   "metadata": {},
   "source": [
    "Here, the calculation converges again with the company-wide calculation. The weighted FTE for Habitat with the company as a whole is 3,861 rather than 3,508. The driver for the difference in contribution is likely to be found here.\n",
    "\n",
    "Both prop_to_org and fte_hrs are potential contributors.\n",
    "\n",
    "To achieve the same result, the ratio of prop_to_org and fte_hrs would need to be scaled by the same factor when subsetting by portfoli.\n",
    "\n",
    "fte_hrs is simply the man-hrs available over the period for either the group that billed to habitat or the company as a whole"
   ]
  },
  {
   "cell_type": "code",
   "execution_count": 29,
   "metadata": {},
   "outputs": [
    {
     "data": {
      "text/plain": [
       "0.19634920634920636"
      ]
     },
     "execution_count": 29,
     "metadata": {},
     "output_type": "execute_result"
    }
   ],
   "source": [
    "fte_hrs / 50400"
   ]
  },
  {
   "cell_type": "markdown",
   "metadata": {},
   "source": [
    "prop_to_org is the proportion that this group spent towards the habitat team. Adding or removing employees from this group will have a large effect on both prop_to_org and fte_hrs. For example, Maria only billed an hour or two, however she contributed a full 880 hours of fte expectation."
   ]
  },
  {
   "cell_type": "code",
   "execution_count": 30,
   "metadata": {},
   "outputs": [
    {
     "data": {
      "text/plain": [
       "0.21610183078719802"
      ]
     },
     "execution_count": 30,
     "metadata": {},
     "output_type": "execute_result"
    }
   ],
   "source": [
    "total_hrs / 47402.56"
   ]
  },
  {
   "cell_type": "markdown",
   "metadata": {},
   "source": [
    "Applying the ratio of these ratios to utilization should provide us the utilization as calculated for the habitat team only."
   ]
  },
  {
   "cell_type": "code",
   "execution_count": 31,
   "metadata": {},
   "outputs": [
    {
     "data": {
      "text/plain": [
       "70.53061224489795"
      ]
     },
     "execution_count": 31,
     "metadata": {},
     "output_type": "execute_result"
    }
   ],
   "source": [
    "64 * .216/.196"
   ]
  },
  {
   "cell_type": "code",
   "execution_count": 32,
   "metadata": {},
   "outputs": [
    {
     "data": {
      "text/plain": [
       "1.1020408163265305"
      ]
     },
     "execution_count": 32,
     "metadata": {},
     "output_type": "execute_result"
    }
   ],
   "source": [
    ".216/.196"
   ]
  },
  {
   "cell_type": "markdown",
   "metadata": {},
   "source": [
    "### Utilization\n",
    "utilization = org_bill_hrs / weighted_fte"
   ]
  },
  {
   "cell_type": "code",
   "execution_count": 33,
   "metadata": {
    "scrolled": false
   },
   "outputs": [
    {
     "data": {
      "text/plain": [
       "0.7000271666300333"
      ]
     },
     "execution_count": 33,
     "metadata": {},
     "output_type": "execute_result"
    }
   ],
   "source": [
    "# utilization is billale hours divided by weighted fte\n",
    "utilization = org_bill_hrs / weighted_fte\n",
    "utilization"
   ]
  },
  {
   "cell_type": "code",
   "execution_count": 34,
   "metadata": {},
   "outputs": [
    {
     "data": {
      "text/plain": [
       "0.23975036558770338"
      ]
     },
     "execution_count": 34,
     "metadata": {},
     "output_type": "execute_result"
    }
   ],
   "source": [
    "# what proportion of hours went towards billale projects in this portfolio?\n",
    "org_bill_hrs / total_hrs"
   ]
  },
  {
   "cell_type": "markdown",
   "metadata": {},
   "source": [
    "The expected utilization as calculated across the entire company for habitat is 64%, rather lower than the 70% calculated here."
   ]
  },
  {
   "cell_type": "markdown",
   "metadata": {},
   "source": [
    "## Notes"
   ]
  },
  {
   "cell_type": "code",
   "execution_count": 35,
   "metadata": {},
   "outputs": [
    {
     "data": {
      "text/html": [
       "<div>\n",
       "<style scoped>\n",
       "    .dataframe tbody tr th:only-of-type {\n",
       "        vertical-align: middle;\n",
       "    }\n",
       "\n",
       "    .dataframe tbody tr th {\n",
       "        vertical-align: top;\n",
       "    }\n",
       "\n",
       "    .dataframe thead th {\n",
       "        text-align: right;\n",
       "    }\n",
       "</style>\n",
       "<table border=\"1\" class=\"dataframe\">\n",
       "  <thead>\n",
       "    <tr style=\"text-align: right;\">\n",
       "      <th></th>\n",
       "      <th>Employee ID</th>\n",
       "      <th>Last Name</th>\n",
       "      <th>First Name</th>\n",
       "      <th>Middle Initial</th>\n",
       "      <th>E-mail Address</th>\n",
       "      <th>Active Flag</th>\n",
       "      <th>Hire date</th>\n",
       "      <th>Termination date</th>\n",
       "      <th>Work Schedule</th>\n",
       "      <th>Work Schedule Description</th>\n",
       "      <th>Default Org</th>\n",
       "    </tr>\n",
       "  </thead>\n",
       "  <tbody>\n",
       "  </tbody>\n",
       "</table>\n",
       "</div>"
      ],
      "text/plain": [
       "Empty DataFrame\n",
       "Columns: [Employee ID, Last Name, First Name, Middle Initial, E-mail Address, Active Flag, Hire date, Termination date, Work Schedule, Work Schedule Description, Default Org]\n",
       "Index: []"
      ]
     },
     "execution_count": 35,
     "metadata": {},
     "output_type": "execute_result"
    }
   ],
   "source": [
    "# Note that Molly does not appear to be updated in the system\n",
    "filt = emp_df['Last Name'] == 'Armanino'\n",
    "emp_df.loc[filt]"
   ]
  },
  {
   "cell_type": "code",
   "execution_count": 36,
   "metadata": {},
   "outputs": [
    {
     "data": {
      "text/html": [
       "<div>\n",
       "<style scoped>\n",
       "    .dataframe tbody tr th:only-of-type {\n",
       "        vertical-align: middle;\n",
       "    }\n",
       "\n",
       "    .dataframe tbody tr th {\n",
       "        vertical-align: top;\n",
       "    }\n",
       "\n",
       "    .dataframe thead th {\n",
       "        text-align: right;\n",
       "    }\n",
       "</style>\n",
       "<table border=\"1\" class=\"dataframe\">\n",
       "  <thead>\n",
       "    <tr style=\"text-align: right;\">\n",
       "      <th></th>\n",
       "      <th>Employee ID</th>\n",
       "      <th>Last Name</th>\n",
       "      <th>First Name</th>\n",
       "      <th>Work Schedule Description</th>\n",
       "      <th>Org Name</th>\n",
       "      <th>Project ID</th>\n",
       "      <th>Project Name</th>\n",
       "      <th>User Defined Code 3</th>\n",
       "      <th>Hours Date</th>\n",
       "      <th>Entered Hours</th>\n",
       "      <th>Approved Hours</th>\n",
       "      <th>Comments</th>\n",
       "    </tr>\n",
       "  </thead>\n",
       "  <tbody>\n",
       "  </tbody>\n",
       "</table>\n",
       "</div>"
      ],
      "text/plain": [
       "Empty DataFrame\n",
       "Columns: [Employee ID, Last Name, First Name, Work Schedule Description, Org Name, Project ID, Project Name, User Defined Code 3, Hours Date, Entered Hours, Approved Hours, Comments]\n",
       "Index: []"
      ]
     },
     "execution_count": 36,
     "metadata": {},
     "output_type": "execute_result"
    }
   ],
   "source": [
    "# However she also does not appear to be billing\n",
    "filt = util_df['Last Name'] == 'Armanino'\n",
    "util_df.loc[filt]"
   ]
  },
  {
   "cell_type": "code",
   "execution_count": 37,
   "metadata": {},
   "outputs": [
    {
     "data": {
      "text/plain": [
       "array(['Alexandrovich', 'Ajroud', 'Chandrasekaran', 'Cook', 'Dubois',\n",
       "       'Flower', 'Gambrill', 'Gibert', 'Hardeman', 'Hicks', 'Hoye',\n",
       "       'Lauck', 'Nease', 'Peabody', 'Present', 'Schueler', 'Anderson',\n",
       "       'Boysen', 'Motlow', 'Riley', 'Sokulsky', 'Praul', 'Hansen',\n",
       "       'Guetschow', 'Brock', 'Chesterman', 'Abragan', 'Uhl', 'Exline',\n",
       "       'King', 'Chery', 'Shay', 'Baca', 'Martinez-Sanchez', 'Grange',\n",
       "       'Castillo Ferri', 'Nico', 'Wolf', 'Mirghani', 'Motolinia',\n",
       "       'Daniels', 'Durand', 'Haik', 'Bevins', 'Wong', 'Sarkisian',\n",
       "       'Spencer', 'Ballard', 'Boutemy', 'Schmidt', 'Giannoni', 'Tripp',\n",
       "       'Reilly', 'Witz', 'Fong', 'Connolly', 'Masood', 'Peimbert',\n",
       "       'Owusu', 'Walter', 'Byenkya', 'Richards', 'Myers', 'Kapikinyu'],\n",
       "      dtype=object)"
      ]
     },
     "execution_count": 37,
     "metadata": {},
     "output_type": "execute_result"
    }
   ],
   "source": [
    "util_df['Last Name'].unique()"
   ]
  },
  {
   "cell_type": "code",
   "execution_count": null,
   "metadata": {},
   "outputs": [],
   "source": []
  }
 ],
 "metadata": {
  "kernelspec": {
   "display_name": "Python 3",
   "language": "python",
   "name": "python3"
  },
  "language_info": {
   "codemirror_mode": {
    "name": "ipython",
    "version": 3
   },
   "file_extension": ".py",
   "mimetype": "text/x-python",
   "name": "python",
   "nbconvert_exporter": "python",
   "pygments_lexer": "ipython3",
   "version": "3.7.3"
  }
 },
 "nbformat": 4,
 "nbformat_minor": 2
}
